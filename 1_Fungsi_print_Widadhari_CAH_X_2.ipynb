{
  "nbformat": 4,
  "nbformat_minor": 0,
  "metadata": {
    "colab": {
      "provenance": [],
      "authorship_tag": "ABX9TyNlNDUStU17Jg0kYJiwVrwQ",
      "include_colab_link": true
    },
    "kernelspec": {
      "name": "python3",
      "display_name": "Python 3"
    },
    "language_info": {
      "name": "python"
    }
  },
  "cells": [
    {
      "cell_type": "markdown",
      "metadata": {
        "id": "view-in-github",
        "colab_type": "text"
      },
      "source": [
        "<a href=\"https://colab.research.google.com/github/widadharicitra2025-wq/KKA-X.2-Semester-1-WidadhariCitraA.H/blob/main/1_Fungsi_print_Widadhari_CAH_X_2.ipynb\" target=\"_parent\"><img src=\"https://colab.research.google.com/assets/colab-badge.svg\" alt=\"Open In Colab\"/></a>"
      ]
    },
    {
      "cell_type": "markdown",
      "source": [
        "Nama: Widadhari citra adristi husna\n",
        "\n",
        "Kelas: X.2\n",
        "\n",
        "Nomor absen: 35"
      ],
      "metadata": {
        "id": "vwM29Mnetr60"
      }
    },
    {
      "cell_type": "code",
      "source": [],
      "metadata": {
        "id": "TTycpGtz09hi"
      },
      "execution_count": null,
      "outputs": []
    },
    {
      "cell_type": "code",
      "source": [
        "print(\"Hello world!\")"
      ],
      "metadata": {
        "colab": {
          "base_uri": "https://localhost:8080/"
        },
        "id": "AAUgkEU_wjO2",
        "outputId": "dcd04843-9a89-4912-8df4-5b6eb0d1bae4"
      },
      "execution_count": null,
      "outputs": [
        {
          "output_type": "stream",
          "name": "stdout",
          "text": [
            "Hello world!\n"
          ]
        }
      ]
    },
    {
      "cell_type": "code",
      "source": [
        "print(\"Widadhari citra adristi husna\")"
      ],
      "metadata": {
        "id": "HFl2ZueqwnWX"
      },
      "execution_count": null,
      "outputs": []
    },
    {
      "cell_type": "markdown",
      "source": [
        "#Menampilkan Nilai Variabel"
      ],
      "metadata": {
        "id": "CZQxKXLYw_P8"
      }
    },
    {
      "cell_type": "code",
      "source": [
        "berat_badan = 40\n",
        "\n",
        "print(berat_badan)"
      ],
      "metadata": {
        "colab": {
          "base_uri": "https://localhost:8080/"
        },
        "id": "Xlu_VE_oxDkL",
        "outputId": "a4ddc648-6a40-4f5b-8dad-5d181aaf58d9"
      },
      "execution_count": null,
      "outputs": [
        {
          "output_type": "stream",
          "name": "stdout",
          "text": [
            "40\n"
          ]
        }
      ]
    },
    {
      "cell_type": "code",
      "source": [
        "Nama = \"widadhari citra adristi husna\"\n",
        "\n",
        "print(Nama)"
      ],
      "metadata": {
        "colab": {
          "base_uri": "https://localhost:8080/"
        },
        "id": "oy_GHYdPxwYi",
        "outputId": "8019ff46-4a19-4b1e-b940-9564e2df9b38"
      },
      "execution_count": null,
      "outputs": [
        {
          "output_type": "stream",
          "name": "stdout",
          "text": [
            "widadhari citra adristi husna\n"
          ]
        }
      ]
    },
    {
      "cell_type": "code",
      "source": [
        "Usia = \"15\"\n",
        "\n",
        "print(Usia)"
      ],
      "metadata": {
        "colab": {
          "base_uri": "https://localhost:8080/"
        },
        "id": "JIANnTd4yL1W",
        "outputId": "c6044222-f530-4859-f4b1-c386c4b6ad22"
      },
      "execution_count": null,
      "outputs": [
        {
          "output_type": "stream",
          "name": "stdout",
          "text": [
            "15\n"
          ]
        }
      ]
    },
    {
      "cell_type": "markdown",
      "source": [
        "#Menampilkan Teks Bebas dan Nilai Variabel"
      ],
      "metadata": {
        "id": "w6PjURiDysWB"
      }
    },
    {
      "cell_type": "code",
      "source": [
        "print(\"Berat badan saya adalah\", berat_badan, \"kg.\")"
      ],
      "metadata": {
        "colab": {
          "base_uri": "https://localhost:8080/"
        },
        "id": "sgGJPFXOzD0l",
        "outputId": "68c2c84e-86e3-40a8-9abf-c0406993fc33"
      },
      "execution_count": null,
      "outputs": [
        {
          "output_type": "stream",
          "name": "stdout",
          "text": [
            "Berat badan saya adalah 40 kg.\n"
          ]
        }
      ]
    },
    {
      "cell_type": "code",
      "source": [
        "print(\"perkenalkan nama saya\", Nama, \".\")"
      ],
      "metadata": {
        "colab": {
          "base_uri": "https://localhost:8080/"
        },
        "id": "C94_q7UJzovu",
        "outputId": "60485738-0f55-4641-afd1-5fbca1d7b10f"
      },
      "execution_count": null,
      "outputs": [
        {
          "output_type": "stream",
          "name": "stdout",
          "text": [
            "perkenalkan nama saya widadhari citra adristi husna .\n"
          ]
        }
      ]
    },
    {
      "cell_type": "code",
      "source": [
        "print(\"perkenalkan nama saya\", Nama + \".\")"
      ],
      "metadata": {
        "colab": {
          "base_uri": "https://localhost:8080/"
        },
        "id": "m7txe8Wa0p9q",
        "outputId": "71de6a62-8d7d-4c82-8d88-369d900a5672"
      },
      "execution_count": null,
      "outputs": [
        {
          "output_type": "stream",
          "name": "stdout",
          "text": [
            "perkenalkan nama saya widadhari citra adristi husna.\n"
          ]
        }
      ]
    },
    {
      "cell_type": "code",
      "source": [
        "print(\"Berat badan saya adalah \" + str(berat_badan) + \"kg.\")"
      ],
      "metadata": {
        "colab": {
          "base_uri": "https://localhost:8080/"
        },
        "id": "pq8fgwzG1yvM",
        "outputId": "e8f4f75c-7a69-44bd-9286-4dd12e22e272"
      },
      "execution_count": null,
      "outputs": [
        {
          "output_type": "stream",
          "name": "stdout",
          "text": [
            "Berat badan saya adalah 40kg.\n"
          ]
        }
      ]
    },
    {
      "cell_type": "code",
      "source": [
        "print(f\"perkenalkan nama saya {Nama}.\")"
      ],
      "metadata": {
        "colab": {
          "base_uri": "https://localhost:8080/"
        },
        "id": "1_Yf94Lc24W9",
        "outputId": "b61f9aaf-4f38-4a02-8e18-0bf089d32b28"
      },
      "execution_count": null,
      "outputs": [
        {
          "output_type": "stream",
          "name": "stdout",
          "text": [
            "perkenalkan nama saya widadhari citra adristi husna.\n"
          ]
        }
      ]
    },
    {
      "cell_type": "code",
      "source": [
        "print(\"Nama: widadhari citra adristi husna\\nkelas: X.2\\nNo. Absen: 35\")"
      ],
      "metadata": {
        "colab": {
          "base_uri": "https://localhost:8080/"
        },
        "id": "89RrHUMP2Er2",
        "outputId": "ab6baca2-8234-48a2-f499-53be08152aaf"
      },
      "execution_count": null,
      "outputs": [
        {
          "output_type": "stream",
          "name": "stdout",
          "text": [
            "Nama: widadhari citra adristi husna\n",
            "kelas: X.2\n",
            "No. Absen: 35\n"
          ]
        }
      ]
    },
    {
      "cell_type": "code",
      "source": [
        "print(\"Nama: widadhari citra\")\n",
        "print(\"Kelas: X.2\")\n",
        "print(\"No. absen 34\")"
      ],
      "metadata": {
        "colab": {
          "base_uri": "https://localhost:8080/"
        },
        "id": "wlfbuq_V2p4R",
        "outputId": "4b9b2aa4-0185-4fa3-e103-a900ecec4b7f"
      },
      "execution_count": null,
      "outputs": [
        {
          "output_type": "stream",
          "name": "stdout",
          "text": [
            "Nama: widadhari citra\n",
            "Kelas: X.2\n",
            "No. absen 34\n"
          ]
        }
      ]
    },
    {
      "cell_type": "code",
      "source": [
        "print(\"\"\"Nama: widadhari citra\n",
        "kelas: X.2\n",
        "No. absen 34\"\"\")"
      ],
      "metadata": {
        "colab": {
          "base_uri": "https://localhost:8080/"
        },
        "id": "4EUhalXJ26a0",
        "outputId": "3cddb894-874a-47ff-fd50-7097da83a3eb"
      },
      "execution_count": null,
      "outputs": [
        {
          "output_type": "stream",
          "name": "stdout",
          "text": [
            "Nama: widadhari citra \n",
            "kelas: X.2\n",
            "No. absen 34\n"
          ]
        }
      ]
    },
    {
      "cell_type": "code",
      "source": [
        "print(\"wi'diyani\")"
      ],
      "metadata": {
        "colab": {
          "base_uri": "https://localhost:8080/"
        },
        "id": "uFExEQ3x6Lko",
        "outputId": "80b7ff92-4063-4872-b18b-cea3acee0959"
      },
      "execution_count": null,
      "outputs": [
        {
          "output_type": "stream",
          "name": "stdout",
          "text": [
            "wi'diyani\n"
          ]
        }
      ]
    },
    {
      "cell_type": "code",
      "source": [
        "print(\"Jadwal Pelajaran Kelas X.2 - MAN Demak 2025/2026\")\n",
        "print(\"================================================\\n\")\n",
        "\n",
        "print(\"Jam\\tSenin\\t\\tSelasa\\t\\tRabu\\t\\tKamis\\t\\tJumat\\t\\tSabtu\")\n",
        "\n",
        "print(\"Jam 1\\tMat Wajib\\tB. Arab\\t\\tB. Jawa\\t\\tFisika\\t\\tMat Wajib\\tBiologi\")\n",
        "print(\"Jam 2\\tMat Wajib\\tB. Arab\\t\\tB. Jawa\\t\\tFisika\\t\\tMat Wajib\\tBiologi\")\n",
        "print(\"Jam 3\\tB. Indo\\t\\tPJOK\\t\\tFikih\\t\\tSejarah\\t\\tPend. Pancasila\\tEkonomi\")\n",
        "print(\"Jam 4\\tB. Indo\\t\\tPJOK\\t\\tFikih\\t\\tSejarah\\t\\tPend. Pancasila\\tEkonomi\")\n",
        "print(\"Jam 5\\tB. Arab\\t\\tB. Indo\\t\\tKimia\\t\\tBiologi\\t\\tSeni Musik\\tSKI\")\n",
        "print(\"Jam 6\\tB. Arab\\t\\tB. Indo\\t\\tKimia\\t\\tGeografi\\t-\\t\\tSKI\")\n",
        "print(\"Jam 7\\tB. Ing\\t\\tAkidah A.\\tSeni Musik\\tGeografi\\t-\\t\\tQur\\'an Hadist\")\n",
        "print(\"Jam 8\\tB. Ing\\t\\tAkidah A.\\tPKWU\\t\\tSosiologi\\t-\\t\\tQur\\'an Hadist\")\n",
        "print(\"Jam 9\\tB. Ing\\t\\tBK\\t\\tPKWU\\t\\tSosiologi\\t-\\t\\tKKA\")\n",
        "print(\"Jam 10\\t-\\t\\t-\\t\\t-\\t\\t-\\t\\t-\\t\\tKKA\")"
      ],
      "metadata": {
        "colab": {
          "base_uri": "https://localhost:8080/"
        },
        "id": "7ZIhO2jfKDC2",
        "outputId": "0d039091-7de9-4d71-9ae6-29eed7a367bd"
      },
      "execution_count": null,
      "outputs": [
        {
          "output_type": "stream",
          "name": "stdout",
          "text": [
            "Jadwal Pelajaran Kelas X.2 - MAN Demak 2025/2026\n",
            "================================================\n",
            "\n",
            "Jam\tSenin\t\tSelasa\t\tRabu\t\tKamis\t\tJumat\t\tSabtu\n",
            "Jam 1\tMat Wajib\tB. Arab\t\tB. Jawa\t\tFisika\t\tMat Wajib\tBiologi\n",
            "Jam 2\tMat Wajib\tB. Arab\t\tB. Jawa\t\tFisika\t\tMat Wajib\tBiologi\n",
            "Jam 3\tB. Indo\t\tPJOK\t\tFikih\t\tSejarah\t\tPend. Pancasila\tEkonomi\n",
            "Jam 4\tB. Indo\t\tPJOK\t\tFikih\t\tSejarah\t\tPend. Pancasila\tEkonomi\n",
            "Jam 5\tB. Arab\t\tB. Indo\t\tKimia\t\tBiologi\t\tSeni Musik\tSKI\n",
            "Jam 6\tB. Arab\t\tB. Indo\t\tKimia\t\tGeografi\t-\t\tSKI\n",
            "Jam 7\tB. Ing\t\tAkidah A.\tSeni Musik\tGeografi\t-\t\tQur'an Hadist\n",
            "Jam 8\tB. Ing\t\tAkidah A.\tPKWU\t\tSosiologi\t-\t\tQur'an Hadist\n",
            "Jam 9\tB. Ing\t\tBK\t\tPKWU\t\tSosiologi\t-\t\tKKA\n",
            "Jam 10\t-\t\t-\t\t-\t\t-\t\t-\t\tKKA\n"
          ]
        }
      ]
    },
    {
      "cell_type": "code",
      "source": [
        "nama_siswa_1 = \"jielo\"\n",
        "nama_siswa_2 = \"aida\"\n",
        "nama_siswa_3 = \"Dani\"\n",
        "nama_siswa_4 = \"Nurul\"\n",
        "\n",
        "print(nama_siswa_4, end= \"/\")\n",
        "print(nama_siswa_2, end= \"/\")\n",
        "print(nama_siswa_1, end= \"/\")\n",
        "print(nama_siswa_3)"
      ],
      "metadata": {
        "colab": {
          "base_uri": "https://localhost:8080/"
        },
        "id": "R-cz8xso0_eP",
        "outputId": "5ca790d6-a60f-41d1-993a-a9af28eab1f2"
      },
      "execution_count": null,
      "outputs": [
        {
          "output_type": "stream",
          "name": "stdout",
          "text": [
            "Nurul/aida/jielo/Dani\n"
          ]
        }
      ]
    },
    {
      "cell_type": "code",
      "source": [
        "nama_siswa_5 = \"hasbi\"\n",
        "nama_siswa_6 = \"habibi\"\n",
        "nama_siswa_7 = \"rendra\"\n",
        "nama_siswa_8 = \"naufal\"\n",
        "\n",
        "print(nama_siswa_5, nama_siswa_8, nama_siswa_7, nama_siswa_6, nama_siswa_8, sep=\"*\")"
      ],
      "metadata": {
        "colab": {
          "base_uri": "https://localhost:8080/"
        },
        "id": "12cY5Lqb4QHx",
        "outputId": "27bfd89e-e93a-40ce-8b46-43afc0740f4c"
      },
      "execution_count": null,
      "outputs": [
        {
          "output_type": "stream",
          "name": "stdout",
          "text": [
            "hasbi*naufal*rendra*habibi*naufal\n"
          ]
        }
      ]
    },
    {
      "cell_type": "code",
      "source": [
        "print('Bu shinta berkata \"Berikut adalah daftar piket harian kelas x.2 yang disimpan di file D:\\\\MAN Demak\\\\Jadwal tiket\"')\n",
        "print(\"jielo\\thasbi\\tNaufal\")\n",
        "print(\"rendra\\tnurul\\taida\")"
      ],
      "metadata": {
        "colab": {
          "base_uri": "https://localhost:8080/"
        },
        "id": "epXF5qYT-Vfq",
        "outputId": "23769695-8a14-4013-bce7-f9e1c60606d7"
      },
      "execution_count": null,
      "outputs": [
        {
          "output_type": "stream",
          "name": "stdout",
          "text": [
            "Bu shinta berkata \"Berikut adalah daftar piket harian kelas x.2 yang disimpan di file D:\\MAN Demak\\Jadwal tiket\"\n",
            "jielo\thasbi\tNaufal\n",
            "rendra\tnurul\taida\n"
          ]
        }
      ]
    }
  ]
}